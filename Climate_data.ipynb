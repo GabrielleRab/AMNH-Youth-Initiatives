{
  "cells": [
    {
      "cell_type": "markdown",
      "metadata": {
        "id": "view-in-github",
        "colab_type": "text"
      },
      "source": [
        "<a href=\"https://colab.research.google.com/github/GabrielleRab/AMNH-Youth-Initiatives/blob/main/Climate_data.ipynb\" target=\"_parent\"><img src=\"https://colab.research.google.com/assets/colab-badge.svg\" alt=\"Open In Colab\"/></a>"
      ]
    },
    {
      "cell_type": "markdown",
      "source": [
        "# Let's look at some climate data!"
      ],
      "metadata": {
        "id": "2GhiVxX8VhXk"
      }
    },
    {
      "cell_type": "code",
      "execution_count": null,
      "metadata": {
        "id": "rEMS6OZPVBHW"
      },
      "outputs": [],
      "source": [
        "# import the necessary Python libraries\n",
        "import pandas as pd\n",
        "\n",
        "# create a dataframe called \"df\" with the dataset\n",
        "df = pd.read_csv(\"https://raw.githubusercontent.com/GabrielleRab/AMNH-Youth-Initiatives/main/NOAA_GPOY.csv\")\n",
        "\n",
        "# preview the first five rows\n",
        "df.head()"
      ]
    },
    {
      "cell_type": "markdown",
      "source": [
        "This is just the first few rows of our data. If we want to know the highest year, we can find the max of the date column:"
      ],
      "metadata": {
        "id": "TK95F_L7VrEu"
      }
    },
    {
      "cell_type": "code",
      "execution_count": null,
      "metadata": {
        "id": "M9fM8AR2VBHZ"
      },
      "outputs": [],
      "source": [
        "df['DATE'].max()"
      ]
    },
    {
      "cell_type": "markdown",
      "source": [
        "Now you try! Find the maximum elevation in this dataset:"
      ],
      "metadata": {
        "id": "9p7K4zWdYdW1"
      }
    },
    {
      "cell_type": "code",
      "source": [
        "# Add your own code here! Look at the code above and see what you might need to change:\n"
      ],
      "metadata": {
        "id": "Ea-0ckA1YjX9"
      },
      "execution_count": null,
      "outputs": []
    },
    {
      "cell_type": "markdown",
      "source": [
        "The column names in this dataset can be confusing if you're not familiar with them. You can find an explanation of all the acronyms [here](https://www.ncei.noaa.gov/pub/data/metadata/documents/GSOYReadme.txt). Make sure to use that page as a reference for the rest of this activity."
      ],
      "metadata": {
        "id": "MPyrPktHYqvI"
      }
    },
    {
      "cell_type": "markdown",
      "source": [
        "Let's explore the total annual precipitation in inches (\"PRCP\"). We'll find the average and then the min and max, along with the corresponding year"
      ],
      "metadata": {
        "id": "0eRRP9ViZAUz"
      }
    },
    {
      "cell_type": "code",
      "source": [
        "# Calculating the average annual precipitation\n",
        "df['PRCP'].mean()"
      ],
      "metadata": {
        "id": "I6xiV6JXZeML"
      },
      "execution_count": null,
      "outputs": []
    },
    {
      "cell_type": "code",
      "source": [
        "# Calculating the minimum annual precipitation\n",
        "df['PRCP'].min()\n"
      ],
      "metadata": {
        "id": "AKGbYqRFZSPT"
      },
      "execution_count": null,
      "outputs": []
    },
    {
      "cell_type": "code",
      "source": [
        "# Finding the year with the minimum precipitation:\n",
        "df.loc[df['PRCP'].idxmin()]['DATE']"
      ],
      "metadata": {
        "id": "i_0-lo9DZ7iK"
      },
      "execution_count": null,
      "outputs": []
    },
    {
      "cell_type": "code",
      "source": [
        "# Calculating the maximum annual precipitation\n",
        "df[\"PRCP\"].max()"
      ],
      "metadata": {
        "id": "RZl4B-rQZcVV"
      },
      "execution_count": null,
      "outputs": []
    },
    {
      "cell_type": "code",
      "source": [
        "# Finding the year with the maximum precipitation:\n",
        "df.loc[df['PRCP'].idxmax()]['DATE']"
      ],
      "metadata": {
        "id": "sGa0AgpKaPap"
      },
      "execution_count": null,
      "outputs": []
    },
    {
      "cell_type": "markdown",
      "source": [
        "We can also look up the total annual precipitation for a specific year:"
      ],
      "metadata": {
        "id": "evnA0yeiaW2q"
      }
    },
    {
      "cell_type": "code",
      "source": [
        "# Find the PRCP for the year 1990\n",
        "# The first number is the row in the dataset and the second number is the PRCP\n",
        "df.query(\"DATE==1990\")[\"PRCP\"]"
      ],
      "metadata": {
        "id": "F_2BXNb0adGV"
      },
      "execution_count": null,
      "outputs": []
    },
    {
      "cell_type": "markdown",
      "source": [
        "Now you try! Find the PCRP for the year 1970:"
      ],
      "metadata": {
        "id": "liojsuK-cYeW"
      }
    },
    {
      "cell_type": "code",
      "source": [
        "# Add your own code here! Look at the code above and see what you might need to change:"
      ],
      "metadata": {
        "id": "ju16X2o5cfJp"
      },
      "execution_count": null,
      "outputs": []
    },
    {
      "cell_type": "markdown",
      "source": [
        "Explore the data on your own! Remember that you can find an explanation of all the acronyms [here](https://www.ncei.noaa.gov/pub/data/metadata/documents/GSOYReadme.txt)."
      ],
      "metadata": {
        "id": "vRxrrZYhchzy"
      }
    },
    {
      "cell_type": "code",
      "source": [],
      "metadata": {
        "id": "c8NVlPKLconq"
      },
      "execution_count": null,
      "outputs": []
    },
    {
      "cell_type": "code",
      "source": [],
      "metadata": {
        "id": "0TiR2wfFcop0"
      },
      "execution_count": null,
      "outputs": []
    },
    {
      "cell_type": "code",
      "source": [],
      "metadata": {
        "id": "1_kLdFnHcosE"
      },
      "execution_count": null,
      "outputs": []
    },
    {
      "cell_type": "code",
      "source": [],
      "metadata": {
        "id": "p8JETKJbcouH"
      },
      "execution_count": null,
      "outputs": []
    },
    {
      "cell_type": "code",
      "source": [],
      "metadata": {
        "id": "7FsEIX4ucowU"
      },
      "execution_count": null,
      "outputs": []
    },
    {
      "cell_type": "code",
      "source": [],
      "metadata": {
        "id": "-spOBjercoym"
      },
      "execution_count": null,
      "outputs": []
    },
    {
      "cell_type": "code",
      "source": [],
      "metadata": {
        "id": "tw1RUcyNco0v"
      },
      "execution_count": null,
      "outputs": []
    },
    {
      "cell_type": "code",
      "source": [],
      "metadata": {
        "id": "5zNW8gDlco28"
      },
      "execution_count": null,
      "outputs": []
    },
    {
      "cell_type": "code",
      "source": [],
      "metadata": {
        "id": "Di-dVKgZco41"
      },
      "execution_count": null,
      "outputs": []
    },
    {
      "cell_type": "code",
      "source": [],
      "metadata": {
        "id": "m8mnLlUycpSk"
      },
      "execution_count": null,
      "outputs": []
    }
  ],
  "metadata": {
    "kernelspec": {
      "display_name": "Python 3",
      "language": "python",
      "name": "python3"
    },
    "language_info": {
      "codemirror_mode": {
        "name": "ipython",
        "version": 3
      },
      "file_extension": ".py",
      "mimetype": "text/x-python",
      "name": "python",
      "nbconvert_exporter": "python",
      "pygments_lexer": "ipython3",
      "version": "3.7.2"
    },
    "colab": {
      "provenance": [],
      "include_colab_link": true
    }
  },
  "nbformat": 4,
  "nbformat_minor": 0
}
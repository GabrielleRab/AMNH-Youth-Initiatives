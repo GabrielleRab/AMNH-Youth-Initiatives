{
  "cells": [
    {
      "cell_type": "markdown",
      "metadata": {
        "id": "view-in-github",
        "colab_type": "text"
      },
      "source": [
        "<a href=\"https://colab.research.google.com/github/GabrielleRab/AMNH-Youth-Initiatives/blob/main/Climate_data.ipynb\" target=\"_parent\"><img src=\"https://colab.research.google.com/assets/colab-badge.svg\" alt=\"Open In Colab\"/></a>"
      ]
    },
    {
      "cell_type": "markdown",
      "source": [
        "# Let's look at some climate data!"
      ],
      "metadata": {
        "id": "2GhiVxX8VhXk"
      }
    },
    {
      "cell_type": "code",
      "execution_count": 19,
      "metadata": {
        "id": "rEMS6OZPVBHW",
        "colab": {
          "base_uri": "https://localhost:8080/",
          "height": 357
        },
        "outputId": "2ccb47a9-6239-42ca-c791-6020afe852ec"
      },
      "outputs": [
        {
          "output_type": "execute_result",
          "data": {
            "text/plain": [
              "       STATION  DATE  LATITUDE  LONGITUDE  ELEVATION             NAME    CDSD  \\\n",
              "0  AG000060680  1941      22.8     5.4331     1362.0  TAMANRASSET, AG  1842.2   \n",
              "1  AG000060680  1942      22.8     5.4331     1362.0  TAMANRASSET, AG  1751.1   \n",
              "2  AG000060680  1943      22.8     5.4331     1362.0  TAMANRASSET, AG  1527.5   \n",
              "3  AG000060680  1944      22.8     5.4331     1362.0  TAMANRASSET, AG  1714.4   \n",
              "4  AG000060680  1945      22.8     5.4331     1362.0  TAMANRASSET, AG  1584.3   \n",
              "\n",
              "   CDSD_ATTRIBUTES    CLDD CLDD_ATTRIBUTES  DP01 DP01_ATTRIBUTES  DP10  \\\n",
              "0              NaN  1842.2               G   NaN             NaN   NaN   \n",
              "1              NaN  1751.1               G  14.0               I   5.0   \n",
              "2              NaN  1527.5               G  19.0               I  12.0   \n",
              "3              NaN  1714.4               G   7.0               I   4.0   \n",
              "4              NaN  1584.3               G  10.0               I   2.0   \n",
              "\n",
              "  DP10_ATTRIBUTES  DP1X DP1X_ATTRIBUTES  DT00 DT00_ATTRIBUTES  DT32  \\\n",
              "0             NaN   NaN             NaN   0.0               G   2.0   \n",
              "1               I   0.0               I   0.0               G  11.0   \n",
              "2               I   0.0               I   0.0               G   4.0   \n",
              "3               I   0.0               I   0.0               G   4.0   \n",
              "4               I   0.0               I   0.0               G   7.0   \n",
              "\n",
              "  DT32_ATTRIBUTES  DX32 DX32_ATTRIBUTES   DX70 DX70_ATTRIBUTES   DX90  \\\n",
              "0               G   0.0               G  351.0               G  147.0   \n",
              "1               G   0.0               G  315.0               G  144.0   \n",
              "2               G   0.0               G  310.0               G  111.0   \n",
              "3               G   0.0               G  304.0               G  149.0   \n",
              "4               G   0.0               G  322.0               G  120.0   \n",
              "\n",
              "  DX90_ATTRIBUTES  EMNT EMNT_ATTRIBUTES  EMXP EMXP_ATTRIBUTES  EMXT  \\\n",
              "0               G   0.0        G,0207,+   NaN             NaN  38.0   \n",
              "1               G  -2.4        G,0120,    6.0       ,I,0813,   38.3   \n",
              "2               G  -1.1        G,0126,+  17.0       ,I,1114,   37.2   \n",
              "3               G  -4.7        G,0217,   12.0       ,I,1227,+  38.9   \n",
              "4               G  -1.4        G,0102,   17.0       ,I,1021,   38.4   \n",
              "\n",
              "  EMXT_ATTRIBUTES  FZF0 FZF0_ATTRIBUTES  FZF1 FZF1_ATTRIBUTES  FZF2  \\\n",
              "0        G,0702,+   NaN             NaN   NaN             NaN   NaN   \n",
              "1        G,0623,    0.0          G,1225   NaN             NaN   NaN   \n",
              "2        G,0712,    NaN             NaN   NaN             NaN   NaN   \n",
              "3        G,0625,    NaN             NaN   NaN             NaN   NaN   \n",
              "4        G,0708,    NaN             NaN   NaN             NaN   NaN   \n",
              "\n",
              "  FZF2_ATTRIBUTES  FZF5 FZF5_ATTRIBUTES  FZF6 FZF6_ATTRIBUTES  FZF7  \\\n",
              "0             NaN   0.0          G,0207   NaN             NaN   NaN   \n",
              "1             NaN  -0.9          G,0126  -2.4          G,0120   NaN   \n",
              "2             NaN  -0.3          G,0210   NaN             NaN   NaN   \n",
              "3             NaN  -2.3          G,0218  -2.3          G,0218  -4.7   \n",
              "4             NaN  -0.1          G,0110   NaN             NaN   NaN   \n",
              "\n",
              "  FZF7_ATTRIBUTES   HDSD  HDSD_ATTRIBUTES   HTDD HTDD_ATTRIBUTES   PRCP  \\\n",
              "0             NaN    NaN              NaN    NaN             NaN    NaN   \n",
              "1             NaN  430.5              5.0  430.5               G   30.0   \n",
              "2             NaN  563.1              1.0  563.1               G  105.0   \n",
              "3          G,0217  645.8              8.0  645.8               G   45.0   \n",
              "4             NaN  518.3              3.0  518.3               G   30.0   \n",
              "\n",
              "  PRCP_ATTRIBUTES   TAVG TAVG_ATTRIBUTES   TMAX TMAX_ATTRIBUTES   TMIN  \\\n",
              "0             NaN  22.44               G  29.79               G  15.10   \n",
              "1              ,I  21.67               G  28.92               G  14.40   \n",
              "2              ,I  21.21               G  28.10               G  14.31   \n",
              "3              ,I  21.21               G  28.43               G  13.98   \n",
              "4              ,I  21.14               G  28.17               G  14.11   \n",
              "\n",
              "  TMIN_ATTRIBUTES  \n",
              "0               G  \n",
              "1               G  \n",
              "2               G  \n",
              "3               G  \n",
              "4               G  "
            ],
            "text/html": [
              "\n",
              "  <div id=\"df-9f5761b5-ad54-436f-b15c-09db10cdb371\">\n",
              "    <div class=\"colab-df-container\">\n",
              "      <div>\n",
              "<style scoped>\n",
              "    .dataframe tbody tr th:only-of-type {\n",
              "        vertical-align: middle;\n",
              "    }\n",
              "\n",
              "    .dataframe tbody tr th {\n",
              "        vertical-align: top;\n",
              "    }\n",
              "\n",
              "    .dataframe thead th {\n",
              "        text-align: right;\n",
              "    }\n",
              "</style>\n",
              "<table border=\"1\" class=\"dataframe\">\n",
              "  <thead>\n",
              "    <tr style=\"text-align: right;\">\n",
              "      <th></th>\n",
              "      <th>STATION</th>\n",
              "      <th>DATE</th>\n",
              "      <th>LATITUDE</th>\n",
              "      <th>LONGITUDE</th>\n",
              "      <th>ELEVATION</th>\n",
              "      <th>NAME</th>\n",
              "      <th>CDSD</th>\n",
              "      <th>CDSD_ATTRIBUTES</th>\n",
              "      <th>CLDD</th>\n",
              "      <th>CLDD_ATTRIBUTES</th>\n",
              "      <th>DP01</th>\n",
              "      <th>DP01_ATTRIBUTES</th>\n",
              "      <th>DP10</th>\n",
              "      <th>DP10_ATTRIBUTES</th>\n",
              "      <th>DP1X</th>\n",
              "      <th>DP1X_ATTRIBUTES</th>\n",
              "      <th>DT00</th>\n",
              "      <th>DT00_ATTRIBUTES</th>\n",
              "      <th>DT32</th>\n",
              "      <th>DT32_ATTRIBUTES</th>\n",
              "      <th>DX32</th>\n",
              "      <th>DX32_ATTRIBUTES</th>\n",
              "      <th>DX70</th>\n",
              "      <th>DX70_ATTRIBUTES</th>\n",
              "      <th>DX90</th>\n",
              "      <th>DX90_ATTRIBUTES</th>\n",
              "      <th>EMNT</th>\n",
              "      <th>EMNT_ATTRIBUTES</th>\n",
              "      <th>EMXP</th>\n",
              "      <th>EMXP_ATTRIBUTES</th>\n",
              "      <th>EMXT</th>\n",
              "      <th>EMXT_ATTRIBUTES</th>\n",
              "      <th>FZF0</th>\n",
              "      <th>FZF0_ATTRIBUTES</th>\n",
              "      <th>FZF1</th>\n",
              "      <th>FZF1_ATTRIBUTES</th>\n",
              "      <th>FZF2</th>\n",
              "      <th>FZF2_ATTRIBUTES</th>\n",
              "      <th>FZF5</th>\n",
              "      <th>FZF5_ATTRIBUTES</th>\n",
              "      <th>FZF6</th>\n",
              "      <th>FZF6_ATTRIBUTES</th>\n",
              "      <th>FZF7</th>\n",
              "      <th>FZF7_ATTRIBUTES</th>\n",
              "      <th>HDSD</th>\n",
              "      <th>HDSD_ATTRIBUTES</th>\n",
              "      <th>HTDD</th>\n",
              "      <th>HTDD_ATTRIBUTES</th>\n",
              "      <th>PRCP</th>\n",
              "      <th>PRCP_ATTRIBUTES</th>\n",
              "      <th>TAVG</th>\n",
              "      <th>TAVG_ATTRIBUTES</th>\n",
              "      <th>TMAX</th>\n",
              "      <th>TMAX_ATTRIBUTES</th>\n",
              "      <th>TMIN</th>\n",
              "      <th>TMIN_ATTRIBUTES</th>\n",
              "    </tr>\n",
              "  </thead>\n",
              "  <tbody>\n",
              "    <tr>\n",
              "      <th>0</th>\n",
              "      <td>AG000060680</td>\n",
              "      <td>1941</td>\n",
              "      <td>22.8</td>\n",
              "      <td>5.4331</td>\n",
              "      <td>1362.0</td>\n",
              "      <td>TAMANRASSET, AG</td>\n",
              "      <td>1842.2</td>\n",
              "      <td>NaN</td>\n",
              "      <td>1842.2</td>\n",
              "      <td>G</td>\n",
              "      <td>NaN</td>\n",
              "      <td>NaN</td>\n",
              "      <td>NaN</td>\n",
              "      <td>NaN</td>\n",
              "      <td>NaN</td>\n",
              "      <td>NaN</td>\n",
              "      <td>0.0</td>\n",
              "      <td>G</td>\n",
              "      <td>2.0</td>\n",
              "      <td>G</td>\n",
              "      <td>0.0</td>\n",
              "      <td>G</td>\n",
              "      <td>351.0</td>\n",
              "      <td>G</td>\n",
              "      <td>147.0</td>\n",
              "      <td>G</td>\n",
              "      <td>0.0</td>\n",
              "      <td>G,0207,+</td>\n",
              "      <td>NaN</td>\n",
              "      <td>NaN</td>\n",
              "      <td>38.0</td>\n",
              "      <td>G,0702,+</td>\n",
              "      <td>NaN</td>\n",
              "      <td>NaN</td>\n",
              "      <td>NaN</td>\n",
              "      <td>NaN</td>\n",
              "      <td>NaN</td>\n",
              "      <td>NaN</td>\n",
              "      <td>0.0</td>\n",
              "      <td>G,0207</td>\n",
              "      <td>NaN</td>\n",
              "      <td>NaN</td>\n",
              "      <td>NaN</td>\n",
              "      <td>NaN</td>\n",
              "      <td>NaN</td>\n",
              "      <td>NaN</td>\n",
              "      <td>NaN</td>\n",
              "      <td>NaN</td>\n",
              "      <td>NaN</td>\n",
              "      <td>NaN</td>\n",
              "      <td>22.44</td>\n",
              "      <td>G</td>\n",
              "      <td>29.79</td>\n",
              "      <td>G</td>\n",
              "      <td>15.10</td>\n",
              "      <td>G</td>\n",
              "    </tr>\n",
              "    <tr>\n",
              "      <th>1</th>\n",
              "      <td>AG000060680</td>\n",
              "      <td>1942</td>\n",
              "      <td>22.8</td>\n",
              "      <td>5.4331</td>\n",
              "      <td>1362.0</td>\n",
              "      <td>TAMANRASSET, AG</td>\n",
              "      <td>1751.1</td>\n",
              "      <td>NaN</td>\n",
              "      <td>1751.1</td>\n",
              "      <td>G</td>\n",
              "      <td>14.0</td>\n",
              "      <td>I</td>\n",
              "      <td>5.0</td>\n",
              "      <td>I</td>\n",
              "      <td>0.0</td>\n",
              "      <td>I</td>\n",
              "      <td>0.0</td>\n",
              "      <td>G</td>\n",
              "      <td>11.0</td>\n",
              "      <td>G</td>\n",
              "      <td>0.0</td>\n",
              "      <td>G</td>\n",
              "      <td>315.0</td>\n",
              "      <td>G</td>\n",
              "      <td>144.0</td>\n",
              "      <td>G</td>\n",
              "      <td>-2.4</td>\n",
              "      <td>G,0120,</td>\n",
              "      <td>6.0</td>\n",
              "      <td>,I,0813,</td>\n",
              "      <td>38.3</td>\n",
              "      <td>G,0623,</td>\n",
              "      <td>0.0</td>\n",
              "      <td>G,1225</td>\n",
              "      <td>NaN</td>\n",
              "      <td>NaN</td>\n",
              "      <td>NaN</td>\n",
              "      <td>NaN</td>\n",
              "      <td>-0.9</td>\n",
              "      <td>G,0126</td>\n",
              "      <td>-2.4</td>\n",
              "      <td>G,0120</td>\n",
              "      <td>NaN</td>\n",
              "      <td>NaN</td>\n",
              "      <td>430.5</td>\n",
              "      <td>5.0</td>\n",
              "      <td>430.5</td>\n",
              "      <td>G</td>\n",
              "      <td>30.0</td>\n",
              "      <td>,I</td>\n",
              "      <td>21.67</td>\n",
              "      <td>G</td>\n",
              "      <td>28.92</td>\n",
              "      <td>G</td>\n",
              "      <td>14.40</td>\n",
              "      <td>G</td>\n",
              "    </tr>\n",
              "    <tr>\n",
              "      <th>2</th>\n",
              "      <td>AG000060680</td>\n",
              "      <td>1943</td>\n",
              "      <td>22.8</td>\n",
              "      <td>5.4331</td>\n",
              "      <td>1362.0</td>\n",
              "      <td>TAMANRASSET, AG</td>\n",
              "      <td>1527.5</td>\n",
              "      <td>NaN</td>\n",
              "      <td>1527.5</td>\n",
              "      <td>G</td>\n",
              "      <td>19.0</td>\n",
              "      <td>I</td>\n",
              "      <td>12.0</td>\n",
              "      <td>I</td>\n",
              "      <td>0.0</td>\n",
              "      <td>I</td>\n",
              "      <td>0.0</td>\n",
              "      <td>G</td>\n",
              "      <td>4.0</td>\n",
              "      <td>G</td>\n",
              "      <td>0.0</td>\n",
              "      <td>G</td>\n",
              "      <td>310.0</td>\n",
              "      <td>G</td>\n",
              "      <td>111.0</td>\n",
              "      <td>G</td>\n",
              "      <td>-1.1</td>\n",
              "      <td>G,0126,+</td>\n",
              "      <td>17.0</td>\n",
              "      <td>,I,1114,</td>\n",
              "      <td>37.2</td>\n",
              "      <td>G,0712,</td>\n",
              "      <td>NaN</td>\n",
              "      <td>NaN</td>\n",
              "      <td>NaN</td>\n",
              "      <td>NaN</td>\n",
              "      <td>NaN</td>\n",
              "      <td>NaN</td>\n",
              "      <td>-0.3</td>\n",
              "      <td>G,0210</td>\n",
              "      <td>NaN</td>\n",
              "      <td>NaN</td>\n",
              "      <td>NaN</td>\n",
              "      <td>NaN</td>\n",
              "      <td>563.1</td>\n",
              "      <td>1.0</td>\n",
              "      <td>563.1</td>\n",
              "      <td>G</td>\n",
              "      <td>105.0</td>\n",
              "      <td>,I</td>\n",
              "      <td>21.21</td>\n",
              "      <td>G</td>\n",
              "      <td>28.10</td>\n",
              "      <td>G</td>\n",
              "      <td>14.31</td>\n",
              "      <td>G</td>\n",
              "    </tr>\n",
              "    <tr>\n",
              "      <th>3</th>\n",
              "      <td>AG000060680</td>\n",
              "      <td>1944</td>\n",
              "      <td>22.8</td>\n",
              "      <td>5.4331</td>\n",
              "      <td>1362.0</td>\n",
              "      <td>TAMANRASSET, AG</td>\n",
              "      <td>1714.4</td>\n",
              "      <td>NaN</td>\n",
              "      <td>1714.4</td>\n",
              "      <td>G</td>\n",
              "      <td>7.0</td>\n",
              "      <td>I</td>\n",
              "      <td>4.0</td>\n",
              "      <td>I</td>\n",
              "      <td>0.0</td>\n",
              "      <td>I</td>\n",
              "      <td>0.0</td>\n",
              "      <td>G</td>\n",
              "      <td>4.0</td>\n",
              "      <td>G</td>\n",
              "      <td>0.0</td>\n",
              "      <td>G</td>\n",
              "      <td>304.0</td>\n",
              "      <td>G</td>\n",
              "      <td>149.0</td>\n",
              "      <td>G</td>\n",
              "      <td>-4.7</td>\n",
              "      <td>G,0217,</td>\n",
              "      <td>12.0</td>\n",
              "      <td>,I,1227,+</td>\n",
              "      <td>38.9</td>\n",
              "      <td>G,0625,</td>\n",
              "      <td>NaN</td>\n",
              "      <td>NaN</td>\n",
              "      <td>NaN</td>\n",
              "      <td>NaN</td>\n",
              "      <td>NaN</td>\n",
              "      <td>NaN</td>\n",
              "      <td>-2.3</td>\n",
              "      <td>G,0218</td>\n",
              "      <td>-2.3</td>\n",
              "      <td>G,0218</td>\n",
              "      <td>-4.7</td>\n",
              "      <td>G,0217</td>\n",
              "      <td>645.8</td>\n",
              "      <td>8.0</td>\n",
              "      <td>645.8</td>\n",
              "      <td>G</td>\n",
              "      <td>45.0</td>\n",
              "      <td>,I</td>\n",
              "      <td>21.21</td>\n",
              "      <td>G</td>\n",
              "      <td>28.43</td>\n",
              "      <td>G</td>\n",
              "      <td>13.98</td>\n",
              "      <td>G</td>\n",
              "    </tr>\n",
              "    <tr>\n",
              "      <th>4</th>\n",
              "      <td>AG000060680</td>\n",
              "      <td>1945</td>\n",
              "      <td>22.8</td>\n",
              "      <td>5.4331</td>\n",
              "      <td>1362.0</td>\n",
              "      <td>TAMANRASSET, AG</td>\n",
              "      <td>1584.3</td>\n",
              "      <td>NaN</td>\n",
              "      <td>1584.3</td>\n",
              "      <td>G</td>\n",
              "      <td>10.0</td>\n",
              "      <td>I</td>\n",
              "      <td>2.0</td>\n",
              "      <td>I</td>\n",
              "      <td>0.0</td>\n",
              "      <td>I</td>\n",
              "      <td>0.0</td>\n",
              "      <td>G</td>\n",
              "      <td>7.0</td>\n",
              "      <td>G</td>\n",
              "      <td>0.0</td>\n",
              "      <td>G</td>\n",
              "      <td>322.0</td>\n",
              "      <td>G</td>\n",
              "      <td>120.0</td>\n",
              "      <td>G</td>\n",
              "      <td>-1.4</td>\n",
              "      <td>G,0102,</td>\n",
              "      <td>17.0</td>\n",
              "      <td>,I,1021,</td>\n",
              "      <td>38.4</td>\n",
              "      <td>G,0708,</td>\n",
              "      <td>NaN</td>\n",
              "      <td>NaN</td>\n",
              "      <td>NaN</td>\n",
              "      <td>NaN</td>\n",
              "      <td>NaN</td>\n",
              "      <td>NaN</td>\n",
              "      <td>-0.1</td>\n",
              "      <td>G,0110</td>\n",
              "      <td>NaN</td>\n",
              "      <td>NaN</td>\n",
              "      <td>NaN</td>\n",
              "      <td>NaN</td>\n",
              "      <td>518.3</td>\n",
              "      <td>3.0</td>\n",
              "      <td>518.3</td>\n",
              "      <td>G</td>\n",
              "      <td>30.0</td>\n",
              "      <td>,I</td>\n",
              "      <td>21.14</td>\n",
              "      <td>G</td>\n",
              "      <td>28.17</td>\n",
              "      <td>G</td>\n",
              "      <td>14.11</td>\n",
              "      <td>G</td>\n",
              "    </tr>\n",
              "  </tbody>\n",
              "</table>\n",
              "</div>\n",
              "      <button class=\"colab-df-convert\" onclick=\"convertToInteractive('df-9f5761b5-ad54-436f-b15c-09db10cdb371')\"\n",
              "              title=\"Convert this dataframe to an interactive table.\"\n",
              "              style=\"display:none;\">\n",
              "        \n",
              "  <svg xmlns=\"http://www.w3.org/2000/svg\" height=\"24px\"viewBox=\"0 0 24 24\"\n",
              "       width=\"24px\">\n",
              "    <path d=\"M0 0h24v24H0V0z\" fill=\"none\"/>\n",
              "    <path d=\"M18.56 5.44l.94 2.06.94-2.06 2.06-.94-2.06-.94-.94-2.06-.94 2.06-2.06.94zm-11 1L8.5 8.5l.94-2.06 2.06-.94-2.06-.94L8.5 2.5l-.94 2.06-2.06.94zm10 10l.94 2.06.94-2.06 2.06-.94-2.06-.94-.94-2.06-.94 2.06-2.06.94z\"/><path d=\"M17.41 7.96l-1.37-1.37c-.4-.4-.92-.59-1.43-.59-.52 0-1.04.2-1.43.59L10.3 9.45l-7.72 7.72c-.78.78-.78 2.05 0 2.83L4 21.41c.39.39.9.59 1.41.59.51 0 1.02-.2 1.41-.59l7.78-7.78 2.81-2.81c.8-.78.8-2.07 0-2.86zM5.41 20L4 18.59l7.72-7.72 1.47 1.35L5.41 20z\"/>\n",
              "  </svg>\n",
              "      </button>\n",
              "      \n",
              "  <style>\n",
              "    .colab-df-container {\n",
              "      display:flex;\n",
              "      flex-wrap:wrap;\n",
              "      gap: 12px;\n",
              "    }\n",
              "\n",
              "    .colab-df-convert {\n",
              "      background-color: #E8F0FE;\n",
              "      border: none;\n",
              "      border-radius: 50%;\n",
              "      cursor: pointer;\n",
              "      display: none;\n",
              "      fill: #1967D2;\n",
              "      height: 32px;\n",
              "      padding: 0 0 0 0;\n",
              "      width: 32px;\n",
              "    }\n",
              "\n",
              "    .colab-df-convert:hover {\n",
              "      background-color: #E2EBFA;\n",
              "      box-shadow: 0px 1px 2px rgba(60, 64, 67, 0.3), 0px 1px 3px 1px rgba(60, 64, 67, 0.15);\n",
              "      fill: #174EA6;\n",
              "    }\n",
              "\n",
              "    [theme=dark] .colab-df-convert {\n",
              "      background-color: #3B4455;\n",
              "      fill: #D2E3FC;\n",
              "    }\n",
              "\n",
              "    [theme=dark] .colab-df-convert:hover {\n",
              "      background-color: #434B5C;\n",
              "      box-shadow: 0px 1px 3px 1px rgba(0, 0, 0, 0.15);\n",
              "      filter: drop-shadow(0px 1px 2px rgba(0, 0, 0, 0.3));\n",
              "      fill: #FFFFFF;\n",
              "    }\n",
              "  </style>\n",
              "\n",
              "      <script>\n",
              "        const buttonEl =\n",
              "          document.querySelector('#df-9f5761b5-ad54-436f-b15c-09db10cdb371 button.colab-df-convert');\n",
              "        buttonEl.style.display =\n",
              "          google.colab.kernel.accessAllowed ? 'block' : 'none';\n",
              "\n",
              "        async function convertToInteractive(key) {\n",
              "          const element = document.querySelector('#df-9f5761b5-ad54-436f-b15c-09db10cdb371');\n",
              "          const dataTable =\n",
              "            await google.colab.kernel.invokeFunction('convertToInteractive',\n",
              "                                                     [key], {});\n",
              "          if (!dataTable) return;\n",
              "\n",
              "          const docLinkHtml = 'Like what you see? Visit the ' +\n",
              "            '<a target=\"_blank\" href=https://colab.research.google.com/notebooks/data_table.ipynb>data table notebook</a>'\n",
              "            + ' to learn more about interactive tables.';\n",
              "          element.innerHTML = '';\n",
              "          dataTable['output_type'] = 'display_data';\n",
              "          await google.colab.output.renderOutput(dataTable, element);\n",
              "          const docLink = document.createElement('div');\n",
              "          docLink.innerHTML = docLinkHtml;\n",
              "          element.appendChild(docLink);\n",
              "        }\n",
              "      </script>\n",
              "    </div>\n",
              "  </div>\n",
              "  "
            ]
          },
          "metadata": {},
          "execution_count": 19
        }
      ],
      "source": [
        "# import the necessary Python libraries\n",
        "import pandas as pd\n",
        "\n",
        "# create a dataframe called \"df\" with the dataset\n",
        "df = pd.read_csv(\"https://raw.githubusercontent.com/GabrielleRab/AMNH-Youth-Initiatives/main/NOAA_GPOY.csv\")\n",
        "\n",
        "# preview the first five rows\n",
        "df.head()"
      ]
    },
    {
      "cell_type": "markdown",
      "source": [
        "This is just the first few rows of our data. If we want to know the highest year, we can find the max of the date column:"
      ],
      "metadata": {
        "id": "TK95F_L7VrEu"
      }
    },
    {
      "cell_type": "code",
      "execution_count": 6,
      "metadata": {
        "id": "M9fM8AR2VBHZ",
        "colab": {
          "base_uri": "https://localhost:8080/"
        },
        "outputId": "2bed0e3f-839d-48aa-8b90-ad794dd3405a"
      },
      "outputs": [
        {
          "output_type": "execute_result",
          "data": {
            "text/plain": [
              "2004"
            ]
          },
          "metadata": {},
          "execution_count": 6
        }
      ],
      "source": [
        "df['DATE'].max()"
      ]
    },
    {
      "cell_type": "markdown",
      "source": [
        "Now you try! Find the maximum elevation in this dataset:"
      ],
      "metadata": {
        "id": "9p7K4zWdYdW1"
      }
    },
    {
      "cell_type": "code",
      "source": [
        "# Add your own code here! Look at the code above and see what you might need to change:\n"
      ],
      "metadata": {
        "id": "Ea-0ckA1YjX9"
      },
      "execution_count": null,
      "outputs": []
    },
    {
      "cell_type": "markdown",
      "source": [
        "The column names in this dataset can be confusing if you're not familiar with them. You can find an explanation of all the acronyms [here](https://www.ncei.noaa.gov/pub/data/metadata/documents/GSOYReadme.txt). Make sure to use that page as a reference for the rest of this activity."
      ],
      "metadata": {
        "id": "MPyrPktHYqvI"
      }
    },
    {
      "cell_type": "markdown",
      "source": [
        "Let's explore the total annual precipitation in inches (\"PRCP\"). We'll find the average and then the min and max, along with the corresponding year"
      ],
      "metadata": {
        "id": "0eRRP9ViZAUz"
      }
    },
    {
      "cell_type": "code",
      "source": [
        "# Calculating the average annual precipitation\n",
        "df['PRCP'].mean()"
      ],
      "metadata": {
        "colab": {
          "base_uri": "https://localhost:8080/"
        },
        "id": "I6xiV6JXZeML",
        "outputId": "193b39ee-1354-4502-f034-4ebf27f2d678"
      },
      "execution_count": 7,
      "outputs": [
        {
          "output_type": "execute_result",
          "data": {
            "text/plain": [
              "49.263888888888886"
            ]
          },
          "metadata": {},
          "execution_count": 7
        }
      ]
    },
    {
      "cell_type": "code",
      "source": [
        "# Calculating the minimum annual precipitation\n",
        "df['PRCP'].min()\n"
      ],
      "metadata": {
        "colab": {
          "base_uri": "https://localhost:8080/"
        },
        "id": "AKGbYqRFZSPT",
        "outputId": "19581671-9877-44d6-cf5d-6e1b6628b599"
      },
      "execution_count": 8,
      "outputs": [
        {
          "output_type": "execute_result",
          "data": {
            "text/plain": [
              "0.0"
            ]
          },
          "metadata": {},
          "execution_count": 8
        }
      ]
    },
    {
      "cell_type": "code",
      "source": [
        "# Finding the year with the minimum precipitation:\n",
        "df.loc[df['PRCP'].idxmin()]['DATE']"
      ],
      "metadata": {
        "colab": {
          "base_uri": "https://localhost:8080/"
        },
        "id": "i_0-lo9DZ7iK",
        "outputId": "846bae84-0374-48d3-810f-344a5eba1f13"
      },
      "execution_count": 9,
      "outputs": [
        {
          "output_type": "execute_result",
          "data": {
            "text/plain": [
              "1973"
            ]
          },
          "metadata": {},
          "execution_count": 9
        }
      ]
    },
    {
      "cell_type": "code",
      "source": [
        "# Calculating the maximum annual precipitation\n",
        "df[\"PRCP\"].max()"
      ],
      "metadata": {
        "colab": {
          "base_uri": "https://localhost:8080/"
        },
        "id": "RZl4B-rQZcVV",
        "outputId": "24c1f7c8-73ea-4f7a-e138-87769479c859"
      },
      "execution_count": 10,
      "outputs": [
        {
          "output_type": "execute_result",
          "data": {
            "text/plain": [
              "156.0"
            ]
          },
          "metadata": {},
          "execution_count": 10
        }
      ]
    },
    {
      "cell_type": "code",
      "source": [
        "# Finding the year with the maximum precipitation:\n",
        "df.loc[df['PRCP'].idxmax()]['DATE']"
      ],
      "metadata": {
        "colab": {
          "base_uri": "https://localhost:8080/"
        },
        "id": "sGa0AgpKaPap",
        "outputId": "7ae5dfb7-3073-4de2-dbe4-49c1db911ecb"
      },
      "execution_count": 11,
      "outputs": [
        {
          "output_type": "execute_result",
          "data": {
            "text/plain": [
              "1979"
            ]
          },
          "metadata": {},
          "execution_count": 11
        }
      ]
    },
    {
      "cell_type": "markdown",
      "source": [
        "We can also look up the total annual precipitation for a specific year:"
      ],
      "metadata": {
        "id": "evnA0yeiaW2q"
      }
    },
    {
      "cell_type": "code",
      "source": [
        "# Find the PRCP for the year 1990\n",
        "# The first number is the row in the dataset and the second number is the PRCP\n",
        "df.query(\"DATE==1990\")[\"PRCP\"]"
      ],
      "metadata": {
        "colab": {
          "base_uri": "https://localhost:8080/"
        },
        "id": "F_2BXNb0adGV",
        "outputId": "1b38ebc3-d0f5-4840-fb56-a207ab75a051"
      },
      "execution_count": 23,
      "outputs": [
        {
          "output_type": "execute_result",
          "data": {
            "text/plain": [
              "27    21.0\n",
              "Name: PRCP, dtype: float64"
            ]
          },
          "metadata": {},
          "execution_count": 23
        }
      ]
    },
    {
      "cell_type": "markdown",
      "source": [
        "Now you try! Find the PCRP for the year 1970:"
      ],
      "metadata": {
        "id": "liojsuK-cYeW"
      }
    },
    {
      "cell_type": "code",
      "source": [
        "# Add your own code here! Look at the code above and see what you might need to change:"
      ],
      "metadata": {
        "id": "ju16X2o5cfJp"
      },
      "execution_count": null,
      "outputs": []
    },
    {
      "cell_type": "markdown",
      "source": [
        "Explore the data on your own! Remember that you can find an explanation of all the acronyms [here](https://www.ncei.noaa.gov/pub/data/metadata/documents/GSOYReadme.txt)."
      ],
      "metadata": {
        "id": "vRxrrZYhchzy"
      }
    },
    {
      "cell_type": "code",
      "source": [],
      "metadata": {
        "id": "c8NVlPKLconq"
      },
      "execution_count": null,
      "outputs": []
    },
    {
      "cell_type": "code",
      "source": [],
      "metadata": {
        "id": "0TiR2wfFcop0"
      },
      "execution_count": null,
      "outputs": []
    },
    {
      "cell_type": "code",
      "source": [],
      "metadata": {
        "id": "1_kLdFnHcosE"
      },
      "execution_count": null,
      "outputs": []
    },
    {
      "cell_type": "code",
      "source": [],
      "metadata": {
        "id": "p8JETKJbcouH"
      },
      "execution_count": null,
      "outputs": []
    },
    {
      "cell_type": "code",
      "source": [],
      "metadata": {
        "id": "7FsEIX4ucowU"
      },
      "execution_count": null,
      "outputs": []
    },
    {
      "cell_type": "code",
      "source": [],
      "metadata": {
        "id": "-spOBjercoym"
      },
      "execution_count": null,
      "outputs": []
    },
    {
      "cell_type": "code",
      "source": [],
      "metadata": {
        "id": "tw1RUcyNco0v"
      },
      "execution_count": null,
      "outputs": []
    },
    {
      "cell_type": "code",
      "source": [],
      "metadata": {
        "id": "5zNW8gDlco28"
      },
      "execution_count": null,
      "outputs": []
    },
    {
      "cell_type": "code",
      "source": [],
      "metadata": {
        "id": "Di-dVKgZco41"
      },
      "execution_count": null,
      "outputs": []
    },
    {
      "cell_type": "code",
      "source": [],
      "metadata": {
        "id": "m8mnLlUycpSk"
      },
      "execution_count": null,
      "outputs": []
    }
  ],
  "metadata": {
    "kernelspec": {
      "display_name": "Python 3",
      "language": "python",
      "name": "python3"
    },
    "language_info": {
      "codemirror_mode": {
        "name": "ipython",
        "version": 3
      },
      "file_extension": ".py",
      "mimetype": "text/x-python",
      "name": "python",
      "nbconvert_exporter": "python",
      "pygments_lexer": "ipython3",
      "version": "3.7.2"
    },
    "colab": {
      "provenance": [],
      "include_colab_link": true
    }
  },
  "nbformat": 4,
  "nbformat_minor": 0
}